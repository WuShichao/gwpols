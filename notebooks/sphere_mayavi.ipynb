{
 "cells": [
  {
   "cell_type": "markdown",
   "id": "9c812977",
   "metadata": {},
   "source": [
    "# Polarizations over the sky"
   ]
  },
  {
   "cell_type": "markdown",
   "id": "991e914b",
   "metadata": {},
   "source": [
    "This notebook visualizes in 3D the effect of gravitational waves from a continuous source (e.g., an asymmetric neutron star, or a compact binary at it very early moments of inspiral) emitting in the primary $\\ell=|m|=2$ angular mode of radiation.\n",
    "\n",
    "The source (not shown) will be placed at the center of a sphere representing the sky infinitely far away from the source.\n",
    "On the sphere, we will distribute a number of rings of freely falling particles, which will serve to illustrate the effect of the gravitational waves as a function of inclination and azimuthal angle around the source.\n",
    "\n",
    "We will find that points at the poles will receive circularly polarized gravitational waves, points at the equator receive linearly polarized waves, and intermediate points receive waves with varying degrees of ellipticity as a function of the inclination (polar angle)."
   ]
  },
  {
   "cell_type": "code",
   "execution_count": 1,
   "id": "a0d71ad2-442d-4f55-99cf-366757d827a2",
   "metadata": {},
   "outputs": [
    {
     "name": "stdout",
     "output_type": "stream",
     "text": [
      "Notebook initialized with ipy backend.\n"
     ]
    }
   ],
   "source": [
    "# first cell\n",
    "from mayavi import mlab\n",
    "mlab.init_notebook()"
   ]
  },
  {
   "cell_type": "code",
   "execution_count": 12,
   "id": "6659639b-1891-4f8f-bb54-e92dcb6c2bcc",
   "metadata": {},
   "outputs": [],
   "source": [
    "# second cell\n",
    "# mlab.test_plot3d()"
   ]
  },
  {
   "cell_type": "code",
   "execution_count": 3,
   "id": "620f0762-9fb5-4a6e-9a44-fb197df393e8",
   "metadata": {},
   "outputs": [],
   "source": [
    "from pylab import *\n",
    "import seaborn as sns\n",
    "from mayavi import mlab\n",
    "\n",
    "import imageio\n",
    "from tqdm.notebook import tqdm\n",
    "import os\n",
    "\n",
    "from matplotlib.patches import Circle, Wedge, Polygon\n",
    "from utils.plots import EllipticalWedge\n",
    "\n",
    "sns.set(context='notebook', palette='colorblind', style='ticks',\n",
    "        font='serif', font_scale=1.5)\n",
    "\n",
    "import warnings\n",
    "warnings.simplefilter(action='ignore', category=FutureWarning)\n",
    "warnings.simplefilter(action='ignore', category=UserWarning)\n",
    "\n",
    "plt.rcParams[\"text.usetex\"] = \"true\""
   ]
  },
  {
   "cell_type": "code",
   "execution_count": 4,
   "id": "87e7bdbf-098a-45e7-8041-c341d5ddebae",
   "metadata": {},
   "outputs": [],
   "source": [
    "from pyspherical import spin_spherical_harmonic"
   ]
  },
  {
   "cell_type": "code",
   "execution_count": 5,
   "id": "ec41cf6c-f152-42d4-a6ea-854ceda7908f",
   "metadata": {},
   "outputs": [],
   "source": [
    "# define source-centered Cartesian frame {X, Y, Z} based on which to \n",
    "# define Ylm's\n",
    "X = array([1, 0, 0])\n",
    "Y = array([0, 1, 0])\n",
    "Z = array([0, 0, 1])\n",
    "\n",
    "# the wave propagation vector will be\n",
    "def wave_nhat(theta, phi):\n",
    "    n = [sin(theta)*cos(phi), sin(theta)*sin(phi), cos(theta)]\n",
    "    return array(n)\n",
    "\n",
    "# define polarization axes X and Y following LIGO convention\n",
    "# https://lscsoft.docs.ligo.org/lalsuite/lalsimulation/group___l_a_l_simulation__h.html\n",
    "# https://lscsoft.docs.ligo.org/lalsuite/lalsimulation/group__lalsimulation__inspiral.html\n",
    "def wave_xy(theta=None, phi=None, nhat=None):\n",
    "    if nhat is None:\n",
    "        nhat = wave_nhat(theta, phi)\n",
    "    # the x vector will be n x Z\n",
    "    if nhat[2] == 1:\n",
    "        # theta = 0 so there's ambiguity about frame orientation,\n",
    "        # disambiguate manually\n",
    "        x = array([cos(phi), sin(phi), 0])\n",
    "    else:\n",
    "        x = cross(nhat, Z)\n",
    "    # the y vector is n x x\n",
    "    y = cross(nhat, x)\n",
    "    return x/linalg.norm(x), y/linalg.norm(y)\n",
    "\n",
    "def get_ring(theta=None, phi=None, nhat=None, npoints=16, r=0.1, complete=True):\n",
    "    # distribute `npoints` points in a circle around the sky location \n",
    "    # defined by theta and phi, with radius `r` around the center\n",
    "    n = nhat if nhat is not None else wave_nhat(theta, phi)\n",
    "    x, y = wave_xy(theta, phi, n)\n",
    "    # compute angular separation between points\n",
    "    angle = 2*pi / npoints\n",
    "    # first point will be anchored in the direction of the waveframe x\n",
    "    points = [r*x]\n",
    "    # now rotate that initial point `npoints` times around nhat\n",
    "    # to do that, first define a rotation matrix around n\n",
    "    # (this is simply a composition of matrices rotating aroung X, Y, Z,\n",
    "    # but let's code up the resulting matrix---lifted from Wikipedia---\n",
    "    # directly to make this more efficient\n",
    "    costh, sinth = cos(angle), sin(angle)\n",
    "    p = 1 - costh\n",
    "    R = array([[costh + n[0]*n[0]*p,      n[0]*n[1]*p - n[2]*sinth, n[0]*n[2]*p + n[1]*sinth],\n",
    "                [n[0]*n[1]*p + n[2]*sinth, costh + n[1]*n[1]*p,      n[1]*n[2]*p - n[0]*sinth],\n",
    "                [n[0]*n[2]*p - n[1]*sinth, n[2]*n[1]*p + n[0]*sinth, costh + n[2]*n[2]*p]])\n",
    "    # we can now apply the rotation iteratively\n",
    "    for i in range(1, npoints):\n",
    "        points.append(dot(R, points[i-1]))\n",
    "    if complete:\n",
    "        points.append(points[0])\n",
    "    return array(points)\n",
    "\n",
    "def get_epec(theta=None, phi=None, nhat=None):\n",
    "    x, y = wave_xy(theta, phi, nhat)\n",
    "    ep = outer(x, x) - outer(y, y)\n",
    "    ec = outer(x, y) + outer(y, x)\n",
    "    return ep, ec    "
   ]
  },
  {
   "cell_type": "code",
   "execution_count": 6,
   "id": "fa6a71ff-61b8-4c82-bca1-4777432c803f",
   "metadata": {},
   "outputs": [],
   "source": [
    "# functions to lay down Fibonacci grid on the sphere\n",
    "\n",
    "def cartesian_to_spherical(xyz, north_polar=True):\n",
    "    \"\"\" Efficiently convert points from Carstesian to spherical coordinates.\n",
    "\n",
    "    https://stackoverflow.com/questions/4116658/faster-numpy-cartesian-to-spherical-coordinate-conversion\n",
    "    \"\"\"\n",
    "    ptsnew = np.zeros(xyz.shape)\n",
    "    xy = xyz[:,0]**2 + xyz[:,1]**2\n",
    "    # radius\n",
    "    ptsnew[:,0] = np.sqrt(xy + xyz[:,2]**2)\n",
    "    if north_polar:\n",
    "        # elevation (polar) angle defined from Z-axis down\n",
    "        ptsnew[:,1] = np.arctan2(np.sqrt(xy), xyz[:,2])\n",
    "    else:\n",
    "        # elevation (polar) angle defined from XY-plane up\n",
    "        ptsnew[:,1] = np.arctan2(xyz[:,2], np.sqrt(xy))\n",
    "    # azimuthal angle from x-axis\n",
    "    ptsnew[:,2] = np.arctan2(xyz[:,1], xyz[:,0])\n",
    "    return ptsnew\n",
    "\n",
    "\n",
    "def fibonacci_sphere(samples, randomize=False, spherical=True, **kwargs):\n",
    "    \"\"\" Create a Fibonacci grid on the unit sphere.\n",
    "\n",
    "    https://stackoverflow.com/questions/9600801/evenly-distributing-n-points-on-a-sphere\n",
    "\n",
    "    Arguments\n",
    "    ---------\n",
    "    samples : int\n",
    "        number of points to draw\n",
    "    randomize : bool\n",
    "\n",
    "    Returns\n",
    "    -------\n",
    "    points : array\n",
    "        [x, y, z] or [r, theta, phi] or [r, np.pi-theta, phi]\n",
    "    \"\"\"\n",
    "    rnd = 1.\n",
    "    if randomize:\n",
    "        rnd = random.random() * samples\n",
    "    points = []\n",
    "    offset = 2./samples\n",
    "    increment = np.pi * (3. - np.sqrt(5.));\n",
    "    for i in range(samples):\n",
    "        y = ((i * offset) - 1) + (offset / 2);\n",
    "        r = np.sqrt(1 - pow(y, 2))\n",
    "        phi = ((i + rnd) % samples) * increment\n",
    "        x = np.cos(phi) * r\n",
    "        z = np.sin(phi) * r\n",
    "        points.append([x,y,z])\n",
    "    points = np.array(points)\n",
    "    if spherical:\n",
    "        points = cartesian_to_spherical(points, **kwargs)\n",
    "    return points"
   ]
  },
  {
   "cell_type": "code",
   "execution_count": 7,
   "id": "f48a137d-dd02-4120-8465-1ff198b67e98",
   "metadata": {},
   "outputs": [],
   "source": [
    "# fig = plt.figure()\n",
    "# ax = fig.add_subplot(projection='3d')\n",
    "\n",
    "# th, phi = pi/2, 3*pi/2\n",
    "# ps = get_ring(th, phi)\n",
    "# n = wave_nhat(th, phi)\n",
    "# ps += n\n",
    "\n",
    "# ax.scatter(ps[:,0], ps[:,1], ps[:,2])\n",
    "\n",
    "# na = vstack([zeros(3), n])\n",
    "# ax.plot(na[:,0], na[:,1], na[:,2])"
   ]
  },
  {
   "cell_type": "code",
   "execution_count": 8,
   "id": "d0e53898-133f-4cd3-b26c-b395a14f8e3a",
   "metadata": {},
   "outputs": [],
   "source": [
    "import matplotlib.colors as mcolors"
   ]
  },
  {
   "cell_type": "code",
   "execution_count": 9,
   "id": "7a824acb-9eea-4041-a1b7-5540b0d7d379",
   "metadata": {},
   "outputs": [],
   "source": [
    "def sphere_snap(wt, nsphere=56, ncircle=16, rcircle=0.5, rsphere=5, A=1, background=True,\n",
    "                cmap='plasma', sphere_color=(0.2, 0.2, 0.2)):\n",
    "    # let's pick a number of points in the sphere to serve as centers\n",
    "    # to our little rings (these are just nhats in spherical coordinates)\n",
    "    nhats_sph = fibonacci_sphere(nsphere)\n",
    "\n",
    "    # let's produce a ring around each of these sky locations\n",
    "    rings = [get_ring(theta, phi, npoints=ncircle, r=rcircle) for _, theta, phi in nhats_sph]\n",
    "\n",
    "\n",
    "    nhats_xyz = rsphere*fibonacci_sphere(nsphere, spherical=False)\n",
    "\n",
    "    el, em = 2, 2\n",
    "\n",
    "#     fig = plt.figure(dpi=150)\n",
    "#     ax = fig.add_subplot(projection='3d')\n",
    "    \n",
    "    cmap = matplotlib.cm.get_cmap(cmap)\n",
    "    norm = matplotlib.colors.Normalize(vmin=-A, vmax=A)\n",
    "\n",
    "\n",
    "    \n",
    "#     for a in [X,Y,Z]:\n",
    "#         p = vstack([zeros(3), a])\n",
    "#         plot(p[:,0], p[:,1], p[:,2], c='gray')\n",
    "        \n",
    "#     # Make sphere data\n",
    "#     u = np.linspace(0, 2 * np.pi, 100)\n",
    "#     v = np.linspace(0, np.pi, 100)\n",
    "#     x = 0.95 *rsphere * np.outer(np.cos(u), np.sin(v))\n",
    "#     y = 0.95 *rsphere * np.outer(np.sin(u), np.sin(v))\n",
    "#     z = 0.95 *rsphere * np.outer(np.ones(np.size(u)), np.cos(v))\n",
    "\n",
    "#     # Plot the surface\n",
    "#     ax.plot_surface(x, y, z, color='b', lw=0)\n",
    "\n",
    "    mlab.points3d(nhats_xyz[:,0], nhats_xyz[:,1], nhats_xyz[:,2], mode='point')#scale_factor=0.5)\n",
    "    \n",
    "    for n, nsph, ring in zip(nhats_xyz, nhats_sph, rings):\n",
    "        _, theta, phi = nsph\n",
    "\n",
    "        h = A * spin_spherical_harmonic(-2, el, em, theta, phi)*exp(-1j*em*wt) + \\\n",
    "            (-1)**el * A * spin_spherical_harmonic(-2, el, -em, theta, phi)*exp(1j*em*wt)\n",
    "        ep, ec = get_epec(theta, phi)\n",
    "\n",
    "        dx = dot(h.real*ep - h.imag*ec, ring.T).T\n",
    "\n",
    "        new_ring = ring + dx\n",
    "        ps = n + new_ring\n",
    "        s = mlab.points3d(ps[:,0], ps[:,1], ps[:,2], color=cmap(abs(h))[:-1], scale_factor=0.06)#, lw=1)\n",
    "    if background:\n",
    "        [phi, theta] = np.mgrid[0:2 * np.pi:56j, 0:np.pi:56j]\n",
    "        x = np.cos(phi) * np.sin(theta)\n",
    "        y = np.sin(phi) * np.sin(theta)\n",
    "        z = np.cos(theta)\n",
    "\n",
    "        r = rsphere\n",
    "        # cc = mcolors.to_rgb(\"midnightblue\")\n",
    "        cc = sphere_color\n",
    "        # cc = tuple(np.array(cc) / linalg.norm(cc))\n",
    "        mlab.mesh(r * x, r * y, r * z, opacity=0.5, color=cc)\n",
    "    return s"
   ]
  },
  {
   "cell_type": "code",
   "execution_count": 10,
   "id": "72063e56-2591-48ec-923f-efe8463c5989",
   "metadata": {
    "tags": []
   },
   "outputs": [
    {
     "data": {
      "application/vnd.jupyter.widget-view+json": {
       "model_id": "07d3d28ff67a44ca87a4ea1d872bd320",
       "version_major": 2,
       "version_minor": 0
      },
      "text/plain": [
       "Image(value=b'\\x89PNG\\r\\n\\x1a\\n\\x00\\x00\\x00\\rIHDR\\x00\\x00\\x04\\x00\\x00\\x00\\x04\\x00\\x08\\x02\\x00\\x00\\x00\\xf0\\x7f\\…"
      ]
     },
     "metadata": {},
     "output_type": "display_data"
    }
   ],
   "source": [
    "fig = mlab.figure(size=(1024, 1024))\n",
    "fig.scene.background = (1, 1, 1) \n",
    "s = sphere_snap(0, nsphere=1024, rcircle=0.1)\n",
    "s"
   ]
  },
  {
   "cell_type": "code",
   "execution_count": 11,
   "id": "9bdbf133-8740-4b77-bd2a-9cf299ee14a9",
   "metadata": {},
   "outputs": [
    {
     "data": {
      "application/vnd.jupyter.widget-view+json": {
       "model_id": "f00b27e9eb4f4a2bbfd0e2bab92674e8",
       "version_major": 2,
       "version_minor": 0
      },
      "text/plain": [
       "  0%|          | 0/50 [00:00<?, ?it/s]"
      ]
     },
     "metadata": {},
     "output_type": "display_data"
    },
    {
     "data": {
      "application/vnd.jupyter.widget-view+json": {
       "model_id": "64375a34ccff4caebb208ce5694b34cf",
       "version_major": 2,
       "version_minor": 0
      },
      "text/plain": [
       "  0%|          | 0/50 [00:00<?, ?it/s]"
      ]
     },
     "metadata": {},
     "output_type": "display_data"
    }
   ],
   "source": [
    "colors = {\n",
    "    'dark': (0.2, 0.2, 0.2),\n",
    "    # 'light': (0.8, 0.8, 0.8),\n",
    "    # 'medium': (0.5, 0.5, 0.5),\n",
    "}\n",
    "for color, rgb in colors.items():\n",
    "    for cmap in ['viridis', 'plasma']:\n",
    "        fig = mlab.figure()#size=(1024, 1024))\n",
    "        fig.scene.background = (1, 1, 1) \n",
    "        nsnaps = 50\n",
    "        basedir = f'sphere_{cmap}_{color}'\n",
    "        if not os.path.exists(basedir):\n",
    "            os.mkdir(basedir)\n",
    "        png_path = os.path.join(basedir, 'snap{}.png')\n",
    "        for i, wt in enumerate(tqdm(linspace(0, 2*pi, nsnaps))):\n",
    "            fig = mlab.figure(size=(1024, 1024))\n",
    "            fig.scene.background = (1, 1, 1) \n",
    "            s = sphere_snap(wt, nsphere=512, rcircle=0.2, cmap=cmap, sphere_color=rgb)\n",
    "            mlab.savefig(png_path.format(i))\n",
    "\n",
    "        images = []\n",
    "        for i in range(nsnaps):\n",
    "            file_path = png_path.format(i)\n",
    "            images.append(imageio.imread(file_path))\n",
    "        imageio.mimsave(f'{basedir}/movie.gif', images, fps=12)"
   ]
  },
  {
   "cell_type": "markdown",
   "id": "18552f35-0935-4edd-aacf-5e1792aa1adf",
   "metadata": {},
   "source": [
    "### License"
   ]
  },
  {
   "cell_type": "markdown",
   "id": "ddbeed63",
   "metadata": {},
   "source": [
    "Copyright © 2023 Maximiliano Isi\n",
    "\n",
    "Permission is hereby granted, free of charge, to any person obtaining a copy of this software and associated documentation files (the “Software”), to deal in the Software without restriction, including without limitation the rights to use, copy, modify, merge, publish, distribute, sublicense, and/or sell copies of the Software, and to permit persons to whom the Software is furnished to do so, subject to the following conditions:\n",
    "\n",
    "The above copyright notice and this permission notice shall be included in all copies or substantial portions of the Software.\n",
    "\n",
    "THE SOFTWARE IS PROVIDED “AS IS”, WITHOUT WARRANTY OF ANY KIND, EXPRESS OR IMPLIED, INCLUDING BUT NOT LIMITED TO THE WARRANTIES OF MERCHANTABILITY, FITNESS FOR A PARTICULAR PURPOSE AND NONINFRINGEMENT. IN NO EVENT SHALL THE AUTHORS OR COPYRIGHT HOLDERS BE LIABLE FOR ANY CLAIM, DAMAGES OR OTHER LIABILITY, WHETHER IN AN ACTION OF CONTRACT, TORT OR OTHERWISE, ARISING FROM, OUT OF OR IN CONNECTION WITH THE SOFTWARE OR THE USE OR OTHER DEALINGS IN THE SOFTWARE."
   ]
  },
  {
   "cell_type": "markdown",
   "id": "7a01e211",
   "metadata": {},
   "source": []
  }
 ],
 "metadata": {
  "kernelspec": {
   "display_name": "Python 3 (ipykernel)",
   "language": "python",
   "name": "python3"
  },
  "language_info": {
   "codemirror_mode": {
    "name": "ipython",
    "version": 3
   },
   "file_extension": ".py",
   "mimetype": "text/x-python",
   "name": "python",
   "nbconvert_exporter": "python",
   "pygments_lexer": "ipython3",
   "version": "3.8.12"
  }
 },
 "nbformat": 4,
 "nbformat_minor": 5
}
